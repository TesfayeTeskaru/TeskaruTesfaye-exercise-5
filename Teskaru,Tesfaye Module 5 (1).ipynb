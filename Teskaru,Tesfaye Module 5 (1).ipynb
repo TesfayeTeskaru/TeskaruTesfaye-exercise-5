{
 "cells": [
  {
   "cell_type": "markdown",
   "metadata": {},
   "source": [
    "### random number generator"
   ]
  },
  {
   "cell_type": "code",
   "execution_count": 4,
   "metadata": {},
   "outputs": [
    {
     "data": {
      "text/plain": [
       "0.8409884959220824"
      ]
     },
     "execution_count": 4,
     "metadata": {},
     "output_type": "execute_result"
    }
   ],
   "source": [
    "import random \n",
    "\n",
    "random.random()"
   ]
  },
  {
   "cell_type": "code",
   "execution_count": 5,
   "metadata": {},
   "outputs": [],
   "source": [
    "import random as rand"
   ]
  },
  {
   "cell_type": "code",
   "execution_count": null,
   "metadata": {},
   "outputs": [],
   "source": [
    "rand.random()"
   ]
  },
  {
   "cell_type": "code",
   "execution_count": 6,
   "metadata": {},
   "outputs": [
    {
     "name": "stdout",
     "output_type": "stream",
     "text": [
      "3\n",
      "1\n",
      "4\n",
      "5\n",
      "2\n"
     ]
    }
   ],
   "source": [
    "# rand.randint(start, end) where start and end are enclusive\n",
    "\n",
    "print(rand.randint(1, 5))\n",
    "print(rand.randint(1, 5))\n",
    "print(rand.randint(1, 5))\n",
    "print(rand.randint(1, 5))\n",
    "print(rand.randint(1, 5))"
   ]
  },
  {
   "cell_type": "code",
   "execution_count": null,
   "metadata": {},
   "outputs": [],
   "source": [
    "rand.randint(10, 19)"
   ]
  },
  {
   "cell_type": "markdown",
   "metadata": {},
   "source": [
    "### round( arg [, decimal_places] )"
   ]
  },
  {
   "cell_type": "code",
   "execution_count": 7,
   "metadata": {},
   "outputs": [
    {
     "data": {
      "text/plain": [
       "3"
      ]
     },
     "execution_count": 7,
     "metadata": {},
     "output_type": "execute_result"
    }
   ],
   "source": [
    "round(3.142857)"
   ]
  },
  {
   "cell_type": "code",
   "execution_count": 8,
   "metadata": {},
   "outputs": [
    {
     "data": {
      "text/plain": [
       "3.0"
      ]
     },
     "execution_count": 8,
     "metadata": {},
     "output_type": "execute_result"
    }
   ],
   "source": [
    "round(3.142857, 0)"
   ]
  },
  {
   "cell_type": "code",
   "execution_count": null,
   "metadata": {},
   "outputs": [],
   "source": [
    "round(3.142857, 1)"
   ]
  },
  {
   "cell_type": "code",
   "execution_count": 9,
   "metadata": {},
   "outputs": [
    {
     "data": {
      "text/plain": [
       "3.14286"
      ]
     },
     "execution_count": 9,
     "metadata": {},
     "output_type": "execute_result"
    }
   ],
   "source": [
    "round(3.142857, 5)"
   ]
  },
  {
   "cell_type": "code",
   "execution_count": null,
   "metadata": {},
   "outputs": [],
   "source": [
    "round(100, 4)"
   ]
  },
  {
   "cell_type": "code",
   "execution_count": 1,
   "metadata": {},
   "outputs": [
    {
     "data": {
      "text/plain": [
       "100.1"
      ]
     },
     "execution_count": 1,
     "metadata": {},
     "output_type": "execute_result"
    }
   ],
   "source": [
    "round(100.1, 3)"
   ]
  },
  {
   "cell_type": "code",
   "execution_count": null,
   "metadata": {},
   "outputs": [],
   "source": [
    "round(100.12, 3)"
   ]
  },
  {
   "cell_type": "code",
   "execution_count": null,
   "metadata": {},
   "outputs": [],
   "source": []
  },
  {
   "cell_type": "markdown",
   "metadata": {},
   "source": [
    "## Exercise 1\n",
    "\n",
    "Ask a user for two numbers. Then \n",
    "1. generate 2 random numbers between 2 numbers provided by a user. \n",
    "2. compute two numbers' multiplication\n",
    "3. compute two numbers' division - round the result to the nearest 100th places (2 decimal places) using round() function. \n",
    "4. print out computation results using string format method. \n",
    "5. print out computation results using f-string\n"
   ]
  },
  {
   "cell_type": "code",
   "execution_count": 30,
   "metadata": {},
   "outputs": [
    {
     "ename": "SyntaxError",
     "evalue": "invalid syntax (<ipython-input-30-044eefd208b7>, line 9)",
     "output_type": "error",
     "traceback": [
      "\u001b[1;36m  File \u001b[1;32m\"<ipython-input-30-044eefd208b7>\"\u001b[1;36m, line \u001b[1;32m9\u001b[0m\n\u001b[1;33m    sum = a + b.\u001b[0m\n\u001b[1;37m                ^\u001b[0m\n\u001b[1;31mSyntaxError\u001b[0m\u001b[1;31m:\u001b[0m invalid syntax\n"
     ]
    }
   ],
   "source": [
    "# Do you need to import any library?\n",
    "import random\n",
    "x = random.randint(0,50)\n",
    "print(x)\n",
    "\n",
    "# get two numbers from a user - what data type is it?\n",
    "a = int(input(\"enter second number: \"))\n",
    "b = int(input(\"enter second number: \"))\n",
    "sum = a + b.\n",
    "print(\"sum:\", sum)\n",
    "\n"
   ]
  },
  {
   "cell_type": "code",
   "execution_count": 15,
   "metadata": {},
   "outputs": [
    {
     "name": "stdout",
     "output_type": "stream",
     "text": [
      "49\n"
     ]
    }
   ],
   "source": [
    "# generate two random numbers\n",
    "\n",
    "import random\n",
    "print(random.randint(10,100,))"
   ]
  },
  {
   "cell_type": "code",
   "execution_count": 26,
   "metadata": {},
   "outputs": [
    {
     "name": "stdout",
     "output_type": "stream",
     "text": [
      "200\n",
      "2.0\n"
     ]
    },
    {
     "data": {
      "text/plain": [
       "125.47"
      ]
     },
     "execution_count": 26,
     "metadata": {},
     "output_type": "execute_result"
    }
   ],
   "source": [
    "# compute multipliction\n",
    "number=10*20\n",
    "print(number)\n",
    "\n",
    "# compute division\n",
    "number=20/10\n",
    "print(number)\n",
    "\n",
    "\n",
    "# Round the result to the nearest 100th places (2 decimal places) using round() function.\n",
    "round(125.4673, 2)\n"
   ]
  },
  {
   "cell_type": "code",
   "execution_count": 25,
   "metadata": {},
   "outputs": [
    {
     "name": "stdout",
     "output_type": "stream",
     "text": [
      "Sammy loves open source.\n"
     ]
    }
   ],
   "source": [
    "# print out computation results using string format method\n",
    "open_string = \"Sammy loves {}.\"\n",
    "print(open_string.format(\"open source\"))\n"
   ]
  },
  {
   "cell_type": "code",
   "execution_count": 29,
   "metadata": {},
   "outputs": [
    {
     "name": "stdout",
     "output_type": "stream",
     "text": [
      "GeeksforGeeks is a portal for Geeks.\n",
      "Hello, My name is Tesfaye and I'm 35 years old.\n"
     ]
    }
   ],
   "source": [
    "# print out computation results using f-string\n",
    "\n",
    "val = 'Geeks'\n",
    "print(f\"{val}for{val} is a portal for {val}.\")\n",
    " \n",
    " \n",
    "name = 'Tesfaye'\n",
    "age = 35\n",
    "print(f\"Hello, My name is {name} and I'm {age} years old.\")"
   ]
  },
  {
   "cell_type": "code",
   "execution_count": null,
   "metadata": {},
   "outputs": [],
   "source": []
  },
  {
   "cell_type": "markdown",
   "metadata": {},
   "source": [
    "### Customized Functions"
   ]
  },
  {
   "cell_type": "code",
   "execution_count": 24,
   "metadata": {},
   "outputs": [],
   "source": [
    "def my_function() :\n",
    "    x = rand.randint(2, 5)\n",
    "    print(x)\n",
    "    print(\"#\" * x)\n"
   ]
  },
  {
   "cell_type": "code",
   "execution_count": null,
   "metadata": {},
   "outputs": [],
   "source": [
    "    \n",
    "my_function()\n",
    "my_function()\n",
    "print(my_function())    # check what has printed"
   ]
  },
  {
   "cell_type": "code",
   "execution_count": null,
   "metadata": {},
   "outputs": [],
   "source": [
    "# customized function with arguments\n",
    "\n",
    "def my_function2(start_no, end_no) :\n",
    "    x = rand.randint(start_no, end_no)\n",
    "    pattern = \"-\" * x\n",
    "    print(f\"x={x}\\t{pattern}\")\n",
    "    return                         # returns None\n",
    "    \n",
    "print(my_function2(1, 5))\n",
    "my_function2(1, 10)\n",
    "my_function2(10, 14)"
   ]
  },
  {
   "cell_type": "code",
   "execution_count": null,
   "metadata": {},
   "outputs": [],
   "source": [
    "my_function2(10, 14)\n",
    "my_function2(10, 14)\n",
    "my_function2(10, 14)"
   ]
  },
  {
   "cell_type": "code",
   "execution_count": null,
   "metadata": {},
   "outputs": [],
   "source": [
    "# customized function with arguments and return value\n",
    "\n",
    "def my_function3(start_no, end_no) :\n",
    "    x = rand.randint(start_no, end_no)\n",
    "    pattern = \"-\" * x\n",
    "    result = f\"x={x}\\t{pattern}\"\n",
    "    return result                        # returns a string\n",
    "    \n",
    "print(my_function3(1, 5))\n",
    "\n",
    "print(\"-\"*20)\n",
    "\n",
    "my_function3(1, 5)               # why didn't this get printed?\n",
    "\n",
    "print(\"-\"*20)\n",
    "\n",
    "print(my_function3(1, 5))"
   ]
  },
  {
   "cell_type": "code",
   "execution_count": null,
   "metadata": {},
   "outputs": [],
   "source": [
    "# returning something with a function\n",
    "\n",
    "def add(a, b):\n",
    "    print(f\"ADDING {a} + {b}\")\n",
    "    # without the f, it looks like ADDING {a} + {b}\n",
    "    # with the f, it looks like ADDING 30 + 5\n",
    "    return a + b\n",
    "\n",
    "def subtract(a, b):\n",
    "    #print(f\"SUBTRACTING {a} - {b}\")\n",
    "    c = a - b\n",
    "    #print(\"return with \", c)\n",
    "    return c\n",
    "\n",
    "def multiply(a, b):\n",
    "    print(f\"MULTIPLYING {a} * {b}\")\n",
    "    return a * b\n",
    "\n",
    "def divide(a, b):\n",
    "    print(f\"DIVIDING {a} / {b}\")\n",
    "    return a / b\n"
   ]
  },
  {
   "cell_type": "code",
   "execution_count": null,
   "metadata": {},
   "outputs": [],
   "source": [
    "print(\"Let's do some math with just functions!\")\n",
    "\n",
    "numb1 = int(input(\"Enter an integer: \"))\n",
    "numb2 = float(input(\"Enter a float: \"))\n",
    "\n",
    "addition = add(numb1, numb2) \n",
    "subtraction = subtract(numb1, numb2)  \n",
    "multiplication = multiply(numb1, numb2) \n",
    "division = divide(numb1, numb2) \n",
    "\n",
    "print(f\"Before: numb1 = {numb1}\\tnumb2 = {numb2}\\n\\n\")\n",
    "print(f\"\"\"\\n\\naddition: {addition}\n",
    "subtraction: {subtraction}\n",
    "multiplication: {multiplication}\n",
    "division: {division}\"\"\")"
   ]
  },
  {
   "cell_type": "code",
   "execution_count": null,
   "metadata": {},
   "outputs": [],
   "source": [
    "print(f\"After: numb1 = {numb1}\\tnumb2 = {numb2}\\n\\n\")"
   ]
  },
  {
   "cell_type": "code",
   "execution_count": null,
   "metadata": {},
   "outputs": [],
   "source": [
    "def add(a, b, c):\n",
    "    return a + b + c\n",
    "\n",
    "def multiply(a, b, c):\n",
    "    return a * b * c"
   ]
  },
  {
   "cell_type": "code",
   "execution_count": null,
   "metadata": {},
   "outputs": [],
   "source": [
    "print(add(1, 2))"
   ]
  },
  {
   "cell_type": "markdown",
   "metadata": {},
   "source": [
    "### Function with default value(s)"
   ]
  },
  {
   "cell_type": "code",
   "execution_count": null,
   "metadata": {},
   "outputs": [],
   "source": [
    "def add(a, b, c=0):\n",
    "    return a + b + c\n",
    "\n",
    "def multiply(a, b, c=1):\n",
    "    return a * b * c"
   ]
  },
  {
   "cell_type": "code",
   "execution_count": null,
   "metadata": {},
   "outputs": [],
   "source": [
    "print(f\"\"\"\n",
    "10 + 20 = {add(10, 20)}\n",
    "10 + 20 + 30 = {add(10, 20, 30)}\n",
    "10 * 2 = {multiply(10, 2)}\n",
    "10 * 2 * 3 = {multiply(10, 2, 3)}\n",
    "\"\"\")"
   ]
  },
  {
   "cell_type": "code",
   "execution_count": null,
   "metadata": {},
   "outputs": [],
   "source": [
    "def divide(a=1, b=1):\n",
    "    return a / b"
   ]
  },
  {
   "cell_type": "code",
   "execution_count": null,
   "metadata": {},
   "outputs": [],
   "source": [
    "print(divide(9, 3))"
   ]
  },
  {
   "cell_type": "code",
   "execution_count": null,
   "metadata": {},
   "outputs": [],
   "source": [
    "print(divide(9))"
   ]
  },
  {
   "cell_type": "code",
   "execution_count": null,
   "metadata": {},
   "outputs": [],
   "source": [
    "print(divide(b=9))"
   ]
  },
  {
   "cell_type": "code",
   "execution_count": null,
   "metadata": {},
   "outputs": [],
   "source": [
    "def matching(person1, person2) :\n",
    "    print(person1 + \" likes \" + person2)\n",
    "\n",
    "name1 = \"Miss Piggy\"\n",
    "name2 = \"Kermit\"\n",
    "matching(name1, name2)\n",
    "    "
   ]
  },
  {
   "cell_type": "code",
   "execution_count": null,
   "metadata": {},
   "outputs": [],
   "source": [
    "matching(name2, name1)"
   ]
  },
  {
   "cell_type": "code",
   "execution_count": null,
   "metadata": {},
   "outputs": [],
   "source": [
    "matching(person1= name1, person2=name2)\n",
    "matching(person2=name2, person1= name1)"
   ]
  },
  {
   "cell_type": "code",
   "execution_count": null,
   "metadata": {},
   "outputs": [],
   "source": [
    "def double_func(x) :\n",
    "    x *= 2\n",
    "    return x\n",
    "\n",
    "\n",
    "x = 5\n",
    "retval = double_func(x)\n",
    "print(f\"retval = {retval}\")\n",
    "print(f\"x = {x}\")\n"
   ]
  },
  {
   "cell_type": "code",
   "execution_count": null,
   "metadata": {},
   "outputs": [],
   "source": [
    "x = \"what?\"\n",
    "retval = double_func(x)\n",
    "print(f\"retval = {retval}\")\n",
    "print(f\"x = {x}\")\n"
   ]
  },
  {
   "cell_type": "markdown",
   "metadata": {},
   "source": [
    "## Exercise 2\n",
    "Write a function called compute() to calculate an area and a perimeter of a rectangle.\n",
    "compute() function will be used in a program as below cell. Fix bugs and edit cells if needed.\n",
    "Run all necessary cells in order to show your function works.\n",
    "\n",
    "The output should be something like this:\n",
    "\n",
    "    Please enter length: 25\n",
    "    Please enter width: 10\n",
    "\n",
    "    Area is 250\n",
    "    Perimeter is 70"
   ]
  },
  {
   "cell_type": "code",
   "execution_count": null,
   "metadata": {},
   "outputs": [],
   "source": [
    "# write code for function called compute() here\n",
    "def compute(width, length) :\n",
    "\n",
    "\n"
   ]
  },
  {
   "cell_type": "code",
   "execution_count": null,
   "metadata": {},
   "outputs": [],
   "source": [
    "# run this cell and fix any errors\n",
    "\n",
    "print(\"The Area and Perimeter Program\")  \n",
    "\n",
    "length = input(\"Please enter length: \")\n",
    "width = input(\"Please enter width: \")\n",
    "\n",
    "print(\"\")\n",
    "compute(width, length)\n",
    "compute(lenght, width)"
   ]
  },
  {
   "cell_type": "code",
   "execution_count": null,
   "metadata": {},
   "outputs": [],
   "source": []
  },
  {
   "cell_type": "markdown",
   "metadata": {},
   "source": [
    "### Lambda Functions"
   ]
  },
  {
   "cell_type": "code",
   "execution_count": null,
   "metadata": {},
   "outputs": [],
   "source": [
    "value = lambda a : a * 2\n",
    "print(value(5))"
   ]
  },
  {
   "cell_type": "code",
   "execution_count": null,
   "metadata": {},
   "outputs": [],
   "source": [
    "print(value(10))"
   ]
  },
  {
   "cell_type": "code",
   "execution_count": null,
   "metadata": {},
   "outputs": [],
   "source": [
    "sample = lambda a : a\n",
    "print(sample(\"thank goodness\"))"
   ]
  },
  {
   "cell_type": "code",
   "execution_count": null,
   "metadata": {},
   "outputs": [],
   "source": [
    "def func(n) :\n",
    "    return lambda a : a * n\n",
    "    \n",
    "print(func(3))    # what is happening?"
   ]
  },
  {
   "cell_type": "code",
   "execution_count": null,
   "metadata": {},
   "outputs": [],
   "source": [
    "def func(n) :\n",
    "    print(f\"inside func: n = {n}\")\n",
    "    return lambda a : a * n\n",
    "    \n",
    "print(func(3))    # what does func() function return?"
   ]
  },
  {
   "cell_type": "code",
   "execution_count": null,
   "metadata": {},
   "outputs": [],
   "source": [
    "db_val = func(2)    \n",
    "print(db_val(5))    # n = 2, a = 5"
   ]
  },
  {
   "cell_type": "code",
   "execution_count": null,
   "metadata": {},
   "outputs": [],
   "source": [
    "tri_val = func(3)\n",
    "print(tri_val(5))"
   ]
  },
  {
   "cell_type": "markdown",
   "metadata": {},
   "source": [
    "## Exercise 3\n",
    "Write a lambda function to convert an integer to a binary number. <br>\n",
    "Show that your lambda function works, using int() function."
   ]
  },
  {
   "cell_type": "code",
   "execution_count": null,
   "metadata": {},
   "outputs": [],
   "source": [
    "# lambda function definition\n"
   ]
  },
  {
   "cell_type": "code",
   "execution_count": null,
   "metadata": {},
   "outputs": [],
   "source": [
    "# confirm, using int() function\n"
   ]
  },
  {
   "cell_type": "markdown",
   "metadata": {},
   "source": [
    "### Name Scope"
   ]
  },
  {
   "cell_type": "code",
   "execution_count": 31,
   "metadata": {},
   "outputs": [
    {
     "name": "stdout",
     "output_type": "stream",
     "text": [
      "Great!\n"
     ]
    }
   ],
   "source": [
    "msg = \"Great!\"\n",
    "\n",
    "def fun() :\n",
    "    print(msg)\n",
    "    \n",
    "fun()    "
   ]
  },
  {
   "cell_type": "code",
   "execution_count": null,
   "metadata": {},
   "outputs": [],
   "source": [
    "def fun2() :\n",
    "    print(msg2)\n",
    "    \n",
    "msg2 = \"You got this!\"\n",
    "fun2()"
   ]
  },
  {
   "cell_type": "code",
   "execution_count": null,
   "metadata": {},
   "outputs": [],
   "source": [
    "def fun3() :\n",
    "    msg3 = msg3 + \"!\"\n",
    "    print(msg3)\n",
    "    \n",
    "msg3 = \"Oh, dear\"\n",
    "fun3()\n",
    "print(f\"After func3(): msg={msg3}\")"
   ]
  },
  {
   "cell_type": "code",
   "execution_count": null,
   "metadata": {},
   "outputs": [],
   "source": [
    "msg4 = \"Oh, dear\"\n",
    "\n",
    "def fun4() :\n",
    "    msg4 = msg4 + \"!\"\n",
    "    print(msg4)\n",
    "    \n",
    "\n",
    "fun4()\n",
    "print(f\"After func4(): msg={msg4}\")"
   ]
  },
  {
   "cell_type": "code",
   "execution_count": null,
   "metadata": {},
   "outputs": [],
   "source": [
    "def fun3() :\n",
    "    global msg3\n",
    "    \n",
    "    msg3 = msg3 + \"!\"\n",
    "    print(msg3)\n",
    "    \n",
    "msg3 = \"Oh, yeah\"\n",
    "fun3()\n",
    "print(f\"After func3(): msg={msg3}\")"
   ]
  },
  {
   "cell_type": "code",
   "execution_count": null,
   "metadata": {},
   "outputs": [],
   "source": [
    "def fun4(msg) :\n",
    "    msg = msg + \"!\"\n",
    "    print(msg)\n",
    "    \n",
    "msg3 = \"Oh, yeah\"\n",
    "fun4(msg3)\n",
    "print(f\"After func4(): msg={msg3}\")"
   ]
  },
  {
   "cell_type": "code",
   "execution_count": null,
   "metadata": {},
   "outputs": [],
   "source": [
    "def fun5(msg3) :\n",
    "    msg3 = msg3 + \"!\"\n",
    "    print(msg3)\n",
    "    \n",
    "msg3 = \"Oh, yeah\"\n",
    "fun5(msg3)\n",
    "print(f\"After func5(): msg={msg3}\")"
   ]
  },
  {
   "cell_type": "code",
   "execution_count": null,
   "metadata": {},
   "outputs": [],
   "source": [
    "def fun6(msg) :\n",
    "    msg = msg + \"***\\n\"\n",
    "    \n",
    "    def fun7(x) :\n",
    "        x = x + '$$$\\n'\n",
    "        print(x)\n",
    "        return x\n",
    "    \n",
    "    msg = fun7(msg)\n",
    "    print(msg)\n",
    "    \n",
    "    \n",
    "fun6(\"hello\")    "
   ]
  },
  {
   "cell_type": "code",
   "execution_count": null,
   "metadata": {},
   "outputs": [],
   "source": [
    "# what is going on?\n",
    "fun6('try')\n",
    "fun7('now')   "
   ]
  },
  {
   "cell_type": "code",
   "execution_count": null,
   "metadata": {},
   "outputs": [],
   "source": [
    "\n",
    "def add (x) :\n",
    "    return x + 2\n",
    "\n",
    "add(add(add(3)))   # what is going on?"
   ]
  },
  {
   "cell_type": "code",
   "execution_count": null,
   "metadata": {},
   "outputs": [],
   "source": []
  },
  {
   "cell_type": "markdown",
   "metadata": {},
   "source": [
    "### Simultaneous Assignment"
   ]
  },
  {
   "cell_type": "code",
   "execution_count": null,
   "metadata": {},
   "outputs": [],
   "source": [
    "x = 1\n",
    "y = 3\n",
    "\n",
    "print(f\"x = {x} y={y}\")"
   ]
  },
  {
   "cell_type": "code",
   "execution_count": null,
   "metadata": {},
   "outputs": [],
   "source": [
    "x, y = 1, 3\n",
    "\n",
    "print(f\"x = {x} y={y}\")"
   ]
  },
  {
   "cell_type": "code",
   "execution_count": null,
   "metadata": {},
   "outputs": [],
   "source": [
    "a = 11\n",
    "b = 54.2\n",
    "c = \"apple pie\"\n",
    "print(f\"Before: a={a} b={b} c={c}\")\n",
    "\n",
    "temp = a\n",
    "a = b\n",
    "b = c\n",
    "c = a\n",
    "print(f\"After: a={a} b={b} c={c}\")"
   ]
  },
  {
   "cell_type": "code",
   "execution_count": null,
   "metadata": {},
   "outputs": [],
   "source": [
    "a, b, c = 11, 54.2, \"apple pie\"\n",
    "print(f\"Before: a={a} b={b} c={c}\")\n",
    "\n",
    "a, b, c = b, c, a\n",
    "print(f\"After: a={a} b={b} c={c}\")"
   ]
  },
  {
   "cell_type": "code",
   "execution_count": null,
   "metadata": {},
   "outputs": [],
   "source": [
    "def func() :\n",
    "    return 1, 3\n",
    "\n",
    "x, y = func()\n",
    "print(f\"x = {x} y={y}\")"
   ]
  },
  {
   "cell_type": "code",
   "execution_count": null,
   "metadata": {},
   "outputs": [],
   "source": [
    "def switch(val1, val2) :\n",
    "    return val2, val1\n",
    "\n",
    "a, b = 10, 99.9\n",
    "print(f\"a = {a} b={b}\")\n",
    "\n",
    "a, b = switch(a, b)\n",
    "print(f\"a = {a} b={b}\")"
   ]
  }
 ],
 "metadata": {
  "kernelspec": {
   "display_name": "Python 3",
   "language": "python",
   "name": "python3"
  },
  "language_info": {
   "codemirror_mode": {
    "name": "ipython",
    "version": 3
   },
   "file_extension": ".py",
   "mimetype": "text/x-python",
   "name": "python",
   "nbconvert_exporter": "python",
   "pygments_lexer": "ipython3",
   "version": "3.8.8"
  }
 },
 "nbformat": 4,
 "nbformat_minor": 4
}
